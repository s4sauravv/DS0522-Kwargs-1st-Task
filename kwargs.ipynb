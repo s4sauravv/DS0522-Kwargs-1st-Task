{
 "cells": [
  {
   "cell_type": "code",
   "execution_count": 12,
   "id": "62119820",
   "metadata": {},
   "outputs": [],
   "source": [
    "def age_salary(**kwargs):\n",
    "    for key,value in kwargs.items():\n",
    "        print(key,value)"
   ]
  },
  {
   "cell_type": "code",
   "execution_count": 14,
   "id": "9847168a",
   "metadata": {},
   "outputs": [
    {
     "name": "stdout",
     "output_type": "stream",
     "text": [
      "age [25, 30, 45]\n",
      "salary [25000, 30000, 45000]\n"
     ]
    }
   ],
   "source": [
    "age_salary(age=[25,30,45],salary=[25000,30000,45000])"
   ]
  },
  {
   "cell_type": "code",
   "execution_count": null,
   "id": "3dbf4e14",
   "metadata": {},
   "outputs": [],
   "source": []
  }
 ],
 "metadata": {
  "kernelspec": {
   "display_name": "Python 3 (ipykernel)",
   "language": "python",
   "name": "python3"
  },
  "language_info": {
   "codemirror_mode": {
    "name": "ipython",
    "version": 3
   },
   "file_extension": ".py",
   "mimetype": "text/x-python",
   "name": "python",
   "nbconvert_exporter": "python",
   "pygments_lexer": "ipython3",
   "version": "3.9.7"
  }
 },
 "nbformat": 4,
 "nbformat_minor": 5
}
